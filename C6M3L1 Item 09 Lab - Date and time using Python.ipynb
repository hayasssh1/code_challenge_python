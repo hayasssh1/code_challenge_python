{
 "cells": [
  {
   "cell_type": "markdown",
   "source": [
    "## C6M3L1 Item 09 - Date and time using Python"
   ],
   "metadata": {}
  },
  {
   "cell_type": "markdown",
   "source": [
    "## Generic guidelines: \n",
    "\n",
    "Refer to the [Exercise](https://www.coursera.org/learn/database-clients/supplement/0oDtw/working-with-labs-in-this-course) for guidance on viewing your code, instructions related to the Jupyter notebook environment, as well as how to access the MySQL database in it. \n",
    "\n",
    "## Prerequisites: \n",
    "\n",
    "To complete this lab, you must have access to the `little_lemon` database. As an authorized user, you need to establish a connection between Python and the database via the MySQL Connector/Python API and create a `cursor` object using the following code: "
   ],
   "metadata": {}
  },
  {
   "cell_type": "code",
   "execution_count": 1,
   "source": [
    "import mysql.connector as connector"
   ],
   "outputs": [],
   "metadata": {}
  },
  {
   "cell_type": "code",
   "execution_count": 2,
   "source": [
    "# Establish connection between Python and MySQL database via MySQL Connector/Python API\n",
    "connection=connector.connect(\n",
    "                             user=\"root\",\n",
    "                             password=\"\",\n",
    "                            )"
   ],
   "outputs": [],
   "metadata": {}
  },
  {
   "cell_type": "code",
   "execution_count": 3,
   "source": [
    "# Create cursor object to communicate with entire MySQL database\n",
    "cursor = connection.cursor()"
   ],
   "outputs": [],
   "metadata": {}
  },
  {
   "cell_type": "markdown",
   "source": [
    "Once the connection is established and you have a cursor object, you can select the database `little_lemon` using the code below and work with the respective table to complete the required tasks.  "
   ],
   "metadata": {}
  },
  {
   "cell_type": "code",
   "execution_count": 4,
   "source": [
    "# Set the little_lemon database for use \n",
    "cursor.execute(\"use little_lemon\")\n",
    "\n",
    "# Confirm the datbase in use\n",
    "connection.database"
   ],
   "outputs": [
    {
     "output_type": "execute_result",
     "data": {
      "text/plain": [
       "'little_lemon'"
      ]
     },
     "metadata": {},
     "execution_count": 4
    }
   ],
   "metadata": {}
  },
  {
   "cell_type": "markdown",
   "source": [
    "## Scenario: \n",
    "\n",
    "Little Lemon needs to schedule its staff’s duties according to the restaurant’s peak hours. They also want to display the guest’s name and their expected arrival time kitchen screen to keep the staff informed. These and several other similar tasks, such as changing the booking time, require working with the date and time column.  \n",
    "\n",
    "You are tasked to help Little Lemon work with the date and time columns using Python for their Python-based application. "
   ],
   "metadata": {}
  },
  {
   "cell_type": "markdown",
   "source": [
    "## Task 1\n",
    "\n",
    "Little Lemon wants to retrieve the number of bookings in each hour so that they can schedule the staff duties accordingly. Use the following steps as a guide to complete this task:  \n",
    "\n",
    "* Target the “BookingID” and “BookingSlot” columns from the “Bookings” table.  \n",
    "* Extract the hour from the “BookingSlot” column and count the bookings in each hour. \n",
    "* Group and order the data by hour.  \n",
    "\n",
    "**TIP:** Use MySQL `HOUR`, `COUNT`, `GROUP BY` and `ORDER BY` to accomplish the task. "
   ],
   "metadata": {}
  },
  {
   "cell_type": "code",
   "execution_count": 5,
   "source": [
    "select_stmt = \"\"\"\n",
    "SELECT HOUR(BookingSlot) AS 'booking_hour', COUNT(BookingID) AS 'n_booking'\n",
    "FROM Bookings\n",
    "GROUP BY HOUR(BookingSlot)\n",
    "ORDER BY booking_hour;\n",
    "\"\"\"\n",
    "\n",
    "cursor.execute(select_stmt)\n",
    "results = cursor.fetchall()\n",
    "print(\"Upcoming bookings:\")\n",
    "for result in results:\n",
    "    booking_hour = result[0]\n",
    "    booking_id = result[1]\n",
    "    print(\"Hour: {} <<>> {} Booking/s\".format(booking_hour, booking_id))"
   ],
   "outputs": [
    {
     "output_type": "stream",
     "name": "stdout",
     "text": [
      "Upcoming bookings:\n",
      "Hour: 15 <<>> 1 Booking/s\n",
      "Hour: 17 <<>> 1 Booking/s\n",
      "Hour: 18 <<>> 1 Booking/s\n",
      "Hour: 19 <<>> 2 Booking/s\n",
      "Hour: 20 <<>> 1 Booking/s\n"
     ]
    }
   ],
   "metadata": {}
  },
  {
   "cell_type": "markdown",
   "source": [
    "## Task 2\n",
    "\n",
    "Little Lemon needs to display the following information in the staff’s room: \n",
    "\n",
    "* Table number \n",
    "* Guest’s full name \n",
    "* Arrival time in hours and minutes (e.g., 15 hours and 0 mins) \n",
    "\n",
    "Help Little Lemon to retrieve and display the required information. Use the following steps as a guide to complete this task: \n",
    "\n",
    "* Target `TableNo`, `GuestFirstName`, `GuestLastName` and `BookingSlot` columns in the `Bookings` table.  \n",
    "* Order the data by `BookingSlot`.  \n",
    "* Use Python’s `datetime` module to extract hours and minutes using the `strptime` function when printing the record.  "
   ],
   "metadata": {}
  },
  {
   "cell_type": "code",
   "execution_count": 8,
   "source": [
    "from datetime import datetime\n",
    "\n",
    "select_stmt = \"\"\"\n",
    "SELECT TableNo, CONCAT(GuestFirstName, ' ', GuestLastName) AS 'full_name', BookingSlot\n",
    "FROM Bookings\n",
    "ORDER BY BookingSlot;\n",
    "\"\"\"\n",
    "\n",
    "cursor.execute(select_stmt)\n",
    "results = cursor.fetchall()\n",
    "print(\"The guests and their booking slots are:\")\n",
    "for result in results:\n",
    "    table_number = result[0]\n",
    "    fullname = result[1]\n",
    "    booking_slot = result[2]\n",
    "\n",
    "    format_data = \"%H:%M:%S\"\n",
    "    arrival_slot = datetime.strptime(str(booking_slot), format_data)\n",
    "    hour = arrival_slot.hour\n",
    "    mins = arrival_slot.minute\n",
    "\n",
    "    print(\"[Table no:] {} >> {} is expected to arrive at: {} hrs and {} mins\".format(table_number, fullname, hour, mins))\n",
    "\n"
   ],
   "outputs": [
    {
     "output_type": "stream",
     "name": "stdout",
     "text": [
      "The guests and their booking slots are:\n",
      "[Table no:] 19 >> Vanessa McCarthy is expected to arrive at: 15 hrs and 0 mins\n",
      "[Table no:] 15 >> Marcos Romero is expected to arrive at: 17 hrs and 30 mins\n",
      "[Table no:] 5 >> Hiroki Yamane is expected to arrive at: 18 hrs and 30 mins\n",
      "[Table no:] 12 >> Anna Iversen is expected to arrive at: 19 hrs and 0 mins\n",
      "[Table no:] 12 >> Joakim Iversen is expected to arrive at: 19 hrs and 0 mins\n",
      "[Table no:] 8 >> Diana Pinto is expected to arrive at: 20 hrs and 0 mins\n"
     ]
    }
   ],
   "metadata": {}
  },
  {
   "cell_type": "markdown",
   "source": [
    "## Task 3\n",
    "\n",
    "A guest with booking ID 2 and table number 12 wants to change the arrival time by one hour. Help Little Lemon to make this change using Python in their application. Use the following steps as a guide to complete this task: \n",
    "\n",
    "* Target `BookingID`, `TableNo` and `BookingSlot` columns in the `Bookings` table.  \n",
    "* Add one hour in the “BookingSlot”.  \n",
    "* Use the `WHERE` clause on `TableNo` and `BookingID` columns.  "
   ],
   "metadata": {}
  },
  {
   "cell_type": "code",
   "execution_count": 9,
   "source": [
    "select_stmt = \"\"\"\n",
    "SELECT BookingID,TableNo, BookingSlot, BookingSlot + INTERVAL 1 HOUR AS 'arrival_slot'\n",
    "FROM Bookings\n",
    "WHERE BookingID = 2 AND TableNo = 12;\n",
    "\"\"\"\n",
    "\n",
    "cursor.execute(select_stmt)\n",
    "results = cursor.fetchall()\n",
    "print(\"Booking time change ALERT!!\")\n",
    "for result in results:\n",
    "    print(\"Booking ID: \", result[0])\n",
    "    print(\"Table number: \", result[1])\n",
    "    print(\"Booked slot: \", result[2])\n",
    "    print(\"New arrival time: \", result[3])"
   ],
   "outputs": [
    {
     "output_type": "stream",
     "name": "stdout",
     "text": [
      "Booking time change ALERT!!\n",
      "Booking ID:  2\n",
      "Table number:  12\n",
      "Booked slot:  19:00:00\n",
      "New arrival time:  20:00:00\n"
     ]
    }
   ],
   "metadata": {}
  }
 ],
 "metadata": {
  "kernelspec": {
   "name": "python3",
   "display_name": "Python 3.8.10 64-bit"
  },
  "language_info": {
   "codemirror_mode": {
    "name": "ipython",
    "version": 3
   },
   "file_extension": ".py",
   "mimetype": "text/x-python",
   "name": "python",
   "nbconvert_exporter": "python",
   "pygments_lexer": "ipython3",
   "version": "3.8.10"
  },
  "interpreter": {
   "hash": "31f2aee4e71d21fbe5cf8b01ff0e069b9275f58929596ceb00d14d90e3e16cd6"
  }
 },
 "nbformat": 4,
 "nbformat_minor": 4
}