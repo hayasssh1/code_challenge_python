{
 "cells": [
  {
   "cell_type": "markdown",
   "source": [
    "## C6M3L3 Item 04  - Working with connection pools"
   ],
   "metadata": {}
  },
  {
   "cell_type": "markdown",
   "source": [
    "## Generic guidelines: \n",
    "\n",
    "Refer to the [Exercise](https://www.coursera.org/learn/database-clients/supplement/0oDtw/working-with-labs-in-this-course) for guidance on viewing your code, instructions related to the Jupyter notebook environment, as well as how to access the MySQL database in it.  \n",
    "\n",
    "## Prerequisites: \n",
    "\n",
    "To complete this lab, you need to install Python and MySQL. Then you need to install MySQL Connector/Python client or API on your Python environment. Follow the instructions in previous videos to install the required packages or software.  \n",
    "\n",
    "To work with MySQL using Python, you must have an authorized user account on the MySQL server.  \n",
    "\n",
    "## Scenario: \n",
    "\n",
    "Little Lemon’s guests need to access the database for any booking or inquiry, for example, reading the menu. Little Lemon, therefore, needs to establish a connection between the Python and MySQL databases for every operation.  Establishing a connection every time is resource intensive and it is affecting the performance of the Little Lemon application. To improve the performance of the application, Little Lemon needs to establish a pool of database connections to facilitate the guests’ inquiries to the database. \n",
    "\n",
    "You are tasked to help Little Lemon to create a pool of database connections using Python. "
   ],
   "metadata": {}
  },
  {
   "cell_type": "markdown",
   "source": [
    "## Task 1\n",
    "\n",
    "Create a database connection pool with three connections available for the users to connect. You need to import MySQLConnectionPool class and pass the following arguments: \n",
    "\n",
    "* pool_name = “ll_pool_a” \n",
    "* pool_size = 3 \n",
    "* **dbconfig \n",
    "\n",
    "Your database configuration will look like this:  \n",
    "```Python\n",
    "dbconfig = { \n",
    "    \"database\" : \"name_of_the_little_lemon_database\",  \n",
    "    \"user\" : \"your_username\", \n",
    "    \"password\" : \"your_password\" \n",
    "} \n",
    "```\n",
    "\n",
    "Use the actual name of the database together with authenticated username and password in the above configuration.  \n",
    "\n",
    "Please use the Error class from `mysql.connector` to handle the possible error in case the wrong parameters are passed on the database configuration.  \n",
    "\n",
    "**Tip:** Use try-except block from Python to implement the error handling. Once the connection pool is created, use the print statements to display the name of the pool and the number of connections in it.  "
   ],
   "metadata": {}
  },
  {
   "cell_type": "code",
   "execution_count": 29,
   "source": [
    "import mysql.connector as connector\n",
    "from mysql.connector import errorcode\n",
    "from mysql.connector.pooling import MySQLConnectionPool\n",
    "\n",
    "pool = MySQLConnectionPool(pool_name = \"11_pool_a\", pool_size = 3, database = 'little_lemon', user = 'root', password = '')\n",
    "\n",
    "try:\n",
    "    conn = pool.get_connection()\n",
    "    if conn.is_connected():\n",
    "        print(\"The connection pool is created with a name: {}\".format(pool.pool_name))\n",
    "        print(\"The pool size is: {}\".format(pool.pool_size))\n",
    "        conn.close()\n",
    "except connector.Error as err:\n",
    "    print(\"Error code: {}\".format(err.errno))\n",
    "    print(\"Error message: {}\".format(err.msg))\n",
    "\n"
   ],
   "outputs": [
    {
     "output_type": "stream",
     "name": "stdout",
     "text": [
      "The connection pool is created with a name: 11_pool_a\n",
      "The pool size is: 3\n"
     ]
    }
   ],
   "metadata": {}
  },
  {
   "cell_type": "markdown",
   "source": [
    "## Task 2\n",
    "\n",
    "Get a connection from the database connection pool that you have created in the first task and retrieve the following columns from the `Bookings` table: \n",
    "\n",
    "* `BookingID` \n",
    "* `GuestFirstName` \n",
    "* `GuestLastName` \n",
    "\n",
    "Retrieve the required columns and put the connection back into the pool after you have completed the task. \n",
    "\n",
    "**TIP:** Use the `get_connection` module from the `pool` to use the connection. Use `print` statements to display the following message and `close` the connection to return to the pool.  "
   ],
   "metadata": {}
  },
  {
   "cell_type": "code",
   "execution_count": 30,
   "source": [
    "select_stmt = \"\"\"\n",
    "SELECT BookingID, GuestFirstName, GuestLastName\n",
    "FROM Bookings\n",
    "\"\"\"\n",
    "\n",
    "print(\"Getting a connection from the pool.\\n\")\n",
    "conn = pool.get_connection()\n",
    "\n",
    "print(\"Creating a cursor.\\n\")\n",
    "cursor = conn.cursor()\n",
    "\n",
    "print(\"Executing the SQL query.\\n\")\n",
    "cursor.execute(select_stmt)\n",
    "\n",
    "print(\"Fetching the query results.\\n\")\n",
    "results = cursor.fetchall()\n",
    "\n",
    "print(\"Retrieving the column names.\\n\")\n",
    "print(cursor.column_names)\n",
    "\n",
    "print(\"Printing the results.\\n\")\n",
    "for result in results:\n",
    "    print(result)\n",
    "\n",
    "conn.close()\n",
    "print(\"\\nReturning the connection back to the pool.\")\n",
    "print(\"The connection is placed back into the pool for the next user to connect.\")\n"
   ],
   "outputs": [
    {
     "output_type": "stream",
     "name": "stdout",
     "text": [
      "Getting a connection from the pool.\n",
      "\n",
      "Creating a cursor.\n",
      "\n",
      "Executing the SQL query.\n",
      "\n",
      "Fetching the query results.\n",
      "\n",
      "Retrieving the column names.\n",
      "\n",
      "('BookingID', 'GuestFirstName', 'GuestLastName')\n",
      "Printing the results.\n",
      "\n",
      "(1, 'Anna', 'Iversen')\n",
      "(2, 'Joakim', 'Iversen')\n",
      "(3, 'Vanessa', 'McCarthy')\n",
      "(4, 'Marcos', 'Romero')\n",
      "(5, 'Hiroki', 'Yamane')\n",
      "(6, 'Diana', 'Pinto')\n",
      "\n",
      "Returning the connection back to the pool.\n",
      "The connection is placed back into the pool for the next user to connect.\n"
     ]
    }
   ],
   "metadata": {}
  },
  {
   "cell_type": "markdown",
   "source": [
    "## Task 3\n",
    "\n",
    "The following five guests want to connect to the database: \n",
    "\n",
    "* guests = [\"Anna\", \"Marcos\", \"Diana\", \"Joakim\", \"Hiroki\"] \n",
    "\n",
    "You only have three connections in the database connection pool. Use the available connection in the `pool` to connect three guests and then add new connections in the pool to connect the remaining two guests. By adding more connection in the pool, make sure that all five guests are connected to the database at the same time.  \n",
    "\n",
    "**Tip:** Use `add_connection` module from the `pool` and add a new connection if all are in use. Use `try-except` from Python and print the message to inform the user when connected. "
   ],
   "metadata": {}
  },
  {
   "cell_type": "code",
   "execution_count": 31,
   "source": [
    "guests = [\"Anna\", \"Marcos\", \"Diana\", \"Joakim\", \"Hiroki\"]\n",
    "\n",
    "for name in guests:\n",
    "    try: \n",
    "        conn = pool.get_connection()\n",
    "        print(\"[{}] is connected.\\n\".format(name))\n",
    "    except:\n",
    "        print(\"No more connections are available.\")\n",
    "        print(\"Adding new connection in the pool\")\n",
    "        \n",
    "        # create a connection\n",
    "        connection = connector.connect(user='root', password='')\n",
    "\n",
    "        # add the connection into the pool\n",
    "        pool.add_connection(cnx=connection)\n",
    "        print(\"A new connection is added in the pool.\\n\")\n",
    "        \n",
    "        new_conn = pool.get_connection()\n",
    "        print(\"[{}] is connected.\\n\".format(name))\n",
    "        \n"
   ],
   "outputs": [
    {
     "output_type": "stream",
     "name": "stdout",
     "text": [
      "[Anna] is connected.\n",
      "\n",
      "[Marcos] is connected.\n",
      "\n",
      "[Diana] is connected.\n",
      "\n",
      "No more connections are available.\n",
      "Adding new connection in the pool\n",
      "A new connection is added in the pool.\n",
      "\n",
      "[Joakim] is connected.\n",
      "\n",
      "No more connections are available.\n",
      "Adding new connection in the pool\n",
      "A new connection is added in the pool.\n",
      "\n",
      "[Hiroki] is connected.\n",
      "\n"
     ]
    }
   ],
   "metadata": {}
  }
 ],
 "metadata": {
  "kernelspec": {
   "name": "python3",
   "display_name": "Python 3.8.10 64-bit"
  },
  "language_info": {
   "codemirror_mode": {
    "name": "ipython",
    "version": 3
   },
   "file_extension": ".py",
   "mimetype": "text/x-python",
   "name": "python",
   "nbconvert_exporter": "python",
   "pygments_lexer": "ipython3",
   "version": "3.8.10"
  },
  "interpreter": {
   "hash": "31f2aee4e71d21fbe5cf8b01ff0e069b9275f58929596ceb00d14d90e3e16cd6"
  }
 },
 "nbformat": 4,
 "nbformat_minor": 4
}