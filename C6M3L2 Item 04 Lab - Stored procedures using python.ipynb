{
 "cells": [
  {
   "cell_type": "markdown",
   "source": [
    "## C6M3L2 Item 04 – Stored procedures using python\n"
   ],
   "metadata": {}
  },
  {
   "cell_type": "markdown",
   "source": [
    "## Generic guidelines: \n",
    "\n",
    "Refer to the [Exercise](https://www.coursera.org/learn/database-clients/supplement/0oDtw/working-with-labs-in-this-course) for guidance on viewing your code, instructions related to the Jupyter notebook environment, as well as how to access the MySQL database in it.  \n",
    "\n",
    "## Prerequisites: \n",
    "\n",
    "To complete this exercise, you must have access to the `little_lemon` database. As an authorized user, you need to establish a connection between Python and the database via the MySQL Connector/Python API and create a `cursor` object using the following code: "
   ],
   "metadata": {}
  },
  {
   "cell_type": "code",
   "execution_count": 1,
   "source": [
    "import mysql.connector as connector"
   ],
   "outputs": [],
   "metadata": {}
  },
  {
   "cell_type": "code",
   "execution_count": 2,
   "source": [
    "# Establish connection b/w Python and MySQL database via connector API\n",
    "connection=connector.connect(\n",
    "                             user=\"root\", # use your own\n",
    "                             password=\"\", # use your own\n",
    "                            )"
   ],
   "outputs": [],
   "metadata": {}
  },
  {
   "cell_type": "code",
   "execution_count": 3,
   "source": [
    "# Create a cursor object to communicate with entire MySQL database\n",
    "cursor = connection.cursor()"
   ],
   "outputs": [],
   "metadata": {}
  },
  {
   "cell_type": "markdown",
   "source": [
    "Once, the connection is established, and you have a cursor object, you can select the database `little_lemon` using the code below and work with the respective table to accomplish the required tasks. "
   ],
   "metadata": {}
  },
  {
   "cell_type": "code",
   "execution_count": 4,
   "source": [
    "# Set the little_lemon database for use \n",
    "cursor.execute(\"use little_lemon\")\n",
    "\n",
    "# Confirm the database in use\n",
    "connection.database"
   ],
   "outputs": [
    {
     "output_type": "execute_result",
     "data": {
      "text/plain": [
       "'little_lemon'"
      ]
     },
     "metadata": {},
     "execution_count": 4
    }
   ],
   "metadata": {}
  },
  {
   "cell_type": "markdown",
   "source": [
    "## Scenario: \n",
    "\n",
    "Little lemon need to perform some tasks on daily basis, and they involve extracting data from one or more tables. The tasks include finding the guest with maximum spending, retrieving the bookings for no arrival, and displaying the order status to the guests. To keep consistency during the data retrieval process, Little Lemon is interested to implement the required tasks using stored procedures. You can help Little Lemon and create stored procedures so that they can call them according to their requirements in their python-based application. "
   ],
   "metadata": {}
  },
  {
   "cell_type": "markdown",
   "source": [
    "## Task 1:\n",
    "\n",
    "Little lemon is running a marketing campaign this month. They need to issue a discount coupon to the top spender on daily bases. Create a stored procedure `TopSpender` that can retrieve the booking ID, guest’s full name, and the bill amount of the top spender at closing. Call the procedure and print the results.   \n",
    "\n",
    "**TIP:** Target `BookingID`, `GusetFistName`, `GuestLastName` and `BillAmount` columns from the `Bookings` and the `Orders` tables. Use the concatenation function to get the guest’s full name. Join the two tables and retrieve the top spender. Create a stored procedure, call it by its name using python and print the results. "
   ],
   "metadata": {}
  },
  {
   "cell_type": "code",
   "execution_count": 11,
   "source": [
    "cursor.execute(\"DROP PROCEDURE IF EXISTS TopSpender;\")\n",
    "\n",
    "stored_procedure_query = \"\"\"\n",
    "CREATE PROCEDURE TopSpender()\n",
    "BEGIN\n",
    "SELECT\n",
    "    o.BookingID,\n",
    "    CONCAT(b.GuestFirstName, ' ', b.GuestLastName) AS CustomerName,\n",
    "    o.BillAmount\n",
    "FROM Orders AS o\n",
    "INNER JOIN Bookings AS b USING(BookingID)\n",
    "ORDER BY o.BillAmount DESC\n",
    "LIMIT 1;\n",
    "END\n",
    "\"\"\"\n",
    "\n",
    "cursor.execute(stored_procedure_query)\n",
    "cursor.callproc(\"TopSpender\")\n",
    "results = next(cursor.stored_results())\n",
    "dataset = results.fetchall()\n",
    "print(results.column_names)\n",
    "for data in dataset:\n",
    "    print(data)"
   ],
   "outputs": [
    {
     "output_type": "stream",
     "name": "stdout",
     "text": [
      "('BookingID', 'CustomerName', 'BillAmount')\n",
      "(1, 'Anna Iversen', 86)\n"
     ]
    }
   ],
   "metadata": {}
  },
  {
   "cell_type": "markdown",
   "source": [
    "## Task 2:\n",
    "\n",
    "Help Little Lemon to retrieve all those bookings where the guests did not appear today. How will you implement this task using a stored procedure? Use `NoArrival` as a name for your stored procedure.  \n",
    "\n",
    "TIP: Target the `Orders` and the `Bookings` tables, join them on `BookingID` and retrieve the records with a `NULL` value in the bill amount. Create a stored procedure, call it by its name using python and print the results."
   ],
   "metadata": {}
  },
  {
   "cell_type": "code",
   "execution_count": 14,
   "source": [
    "cursor.execute(\"DROP PROCEDURE IF EXISTS NoArrival;\")\n",
    "\n",
    "stored_procedure_query = \"\"\"\n",
    "CREATE PROCEDURE NoArrival()\n",
    "BEGIN\n",
    "SELECT\n",
    "    b.BookingID,\n",
    "    o.BillAmount\n",
    "FROM Bookings AS b\n",
    "LEFT JOIN Orders AS o USING(BookingID)\n",
    "WHERE o.BookingID IS NULL;\n",
    "END\n",
    "\"\"\"\n",
    "\n",
    "cursor.execute(stored_procedure_query)\n",
    "cursor.callproc(\"NoArrival\")\n",
    "results = next(cursor.stored_results())\n",
    "dataset = results.fetchall()\n",
    "print(results.column_names)\n",
    "for data in dataset:\n",
    "    print(data)"
   ],
   "outputs": [
    {
     "output_type": "stream",
     "name": "stdout",
     "text": [
      "('BookingID', 'BillAmount')\n",
      "(6, None)\n"
     ]
    }
   ],
   "metadata": {}
  },
  {
   "cell_type": "markdown",
   "source": [
    "## Task 3:\n",
    "\n",
    "It is very important for little lemon to keep track of the status of each guest’s order and display it on the screen to keep their guests informed.  \n",
    "\n",
    "This is how they categorize the orders: \n",
    "\n",
    "* If not assigned to any employee, the status is `In Queue` \n",
    "* If assigned to the employees with IDs 4 and 5, the status is `Preparing Order` \n",
    "* If assigned to the employees with IDs 1, 2, and 3, the status is `Order Served` \n",
    "\n",
    "Create a stored procedure named `OrderStatus` for the above task and call to check if everything is working.  \n",
    "\n",
    "**TIP:** Target `EmployeeID` column in the `Bookings` table and use the `CASE` function in your stored procedure query. Create a stored procedure, call it by its name using python and print the results.  "
   ],
   "metadata": {}
  },
  {
   "cell_type": "code",
   "execution_count": 15,
   "source": [
    "cursor.execute(\"DROP PROCEDURE IF EXISTS OrderStatus;\")\n",
    "\n",
    "stored_procedure_query = \"\"\"\n",
    "CREATE PROCEDURE OrderStatus()\n",
    "BEGIN\n",
    "SELECT\n",
    "    BookingID,\n",
    "    CASE \n",
    "        WHEN EmployeeID IN (4,5) THEN 'Preparing Order'\n",
    "        WHEN EmployeeID IN (1,2,3) THEN 'Order Served'\n",
    "        WHEN EmployeeID IS NULL THEN 'In Queue'\n",
    "    END AS 'Status'\n",
    "FROM Bookings;\n",
    "END\n",
    "\"\"\"\n",
    "\n",
    "cursor.execute(stored_procedure_query)\n",
    "cursor.callproc(\"OrderStatus\")\n",
    "results = next(cursor.stored_results())\n",
    "dataset = results.fetchall()\n",
    "print(results.column_names)\n",
    "for data in dataset:\n",
    "    print(data)"
   ],
   "outputs": [
    {
     "output_type": "stream",
     "name": "stdout",
     "text": [
      "('BookingID', 'Status')\n",
      "(1, 'Order Served')\n",
      "(2, 'Order Served')\n",
      "(3, 'Order Served')\n",
      "(4, 'Preparing Order')\n",
      "(5, 'Order Served')\n",
      "(6, 'Preparing Order')\n"
     ]
    }
   ],
   "metadata": {}
  }
 ],
 "metadata": {
  "kernelspec": {
   "name": "python3",
   "display_name": "Python 3.8.10 64-bit"
  },
  "language_info": {
   "codemirror_mode": {
    "name": "ipython",
    "version": 3
   },
   "file_extension": ".py",
   "mimetype": "text/x-python",
   "name": "python",
   "nbconvert_exporter": "python",
   "pygments_lexer": "ipython3",
   "version": "3.8.10"
  },
  "interpreter": {
   "hash": "31f2aee4e71d21fbe5cf8b01ff0e069b9275f58929596ceb00d14d90e3e16cd6"
  }
 },
 "nbformat": 4,
 "nbformat_minor": 4
}